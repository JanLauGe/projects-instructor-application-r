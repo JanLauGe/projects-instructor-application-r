{
 "cells": [
  {
   "cell_type": "markdown",
   "metadata": {
    "collapsed": true
   },
   "source": [
    "Welcome to your DataCamp project audition! This notebook must be filled out and vetted before a contract can be signed and you can start creating your project.\n",
    "\n",
    "The first step is forking the repository in which this notebook lives. After that, there are two parts to be completed in this notebook:\n",
    "\n",
    "- **Project information**:  The title of the project, a project description, etc.\n",
    "\n",
    "- **Project introduction**: The three first text and code cells that will form the introduction of your project.\n",
    "\n",
    "When complete, please email the link to your forked repo to projects@datacamp.com with the email subject line _DataCamp project audition_. If you have any questions, please reach out to projects@datacamp.com."
   ]
  },
  {
   "cell_type": "markdown",
   "metadata": {},
   "source": [
    "# Project information"
   ]
  },
  {
   "cell_type": "markdown",
   "metadata": {},
   "source": [
    "**Project title**: The title of the project. Maximum 41 characters.\n",
    "\n",
    "**Name:** Jan Laurens Geffert\n",
    "\n",
    "**Email address associated with your DataCamp account:** laurensgeffert@gmail.com\n",
    "\n",
    "**GitHub username:** JanLauGe\n",
    "\n",
    "**Project description**: This will be read by the students on the DataCamp platform **before** deciding to start the project. The description should be three paragraphs, written in Markdown.\n",
    "\n",
    "- Paragraph 1 should be an exciting introduction to analysis/model/etc. students will complete.\n",
    "- Paragraph 2 should list the background knowledge you assume the student doing this project will have, the more specific the better. Please list things like modules, tools, functions, methods, statistical concepts, etc.\n",
    "- Paragraph 3 should describe and link to (if possible) the dataset used in the project."
   ]
  },
  {
   "cell_type": "markdown",
   "metadata": {},
   "source": [
    "# Project introduction\n",
    "\n",
    "***Note: nothing needs to be filled out in this cell. It is simply setting up the template cells below.***\n",
    "\n",
    "The final output of a DataCamp project looks like a blog post: pairs of text and code cells that tell a story about data. The text is written from the perspective of the data analyst and *not* from the perspective of an instructor on DataCamp. So, for this blog post intro, all you need to do is pretend like you're writing a blog post -- forget the part about instructors and students.\n",
    "\n",
    "Below you'll see the structure of a DataCamp project: a series of \"tasks\" where each task consists of a title, a **single** text cell, and a **single** code cell. There are 8-12 tasks in a project and each task can have up to 10 lines of code. What you need to do:\n",
    "1. Read through the template structure.\n",
    "2. As best you can, divide your project as it is currently visualized in your mind into tasks.\n",
    "3. Fill out the template structure for the first three tasks of your project.\n",
    "\n",
    "As you are completing each task, you may wish to consult the project notebook format in our [documentation](https://instructor-support.datacamp.com/projects/datacamp-projects-jupyter-notebook). Only the `@context` and `@solution` cells are relevant to this audition."
   ]
  },
  {
   "cell_type": "markdown",
   "metadata": {},
   "source": [
    "## 1. Title of the first task  (<= 55 chars) (sentence case)"
   ]
  },
  {
   "cell_type": "markdown",
   "metadata": {},
   "source": [
    "An exciting intro to the analysis. Provide context on the problem you're going to solve, the dataset(s) you're going to use, the relevant industry, etc. You may wish to briefly introduce the techniques you're going to use. Tell a story to get students excited! It should at most have 1200 characters.\n",
    "\n",
    "The most common error instructors make in **context cells** is referring to the student or the project. We want project notebooks to appear as a blog post or a data analysis. Bad: *\"In this project, you will...\"* Good: *\"In this notebook, we will...\"*\n",
    "\n",
    "The first task in projects often involve loading data. Please store any data files you use in the `datasets/` folder in this repository.\n",
    "\n",
    "Images are welcome additions to every Markdown cell, but especially this first one. Make sure the images you use have a [permissive license](https://support.google.com/websearch/answer/29508?hl=en) and display them using [Markdown](https://github.com/adam-p/markdown-here/wiki/Markdown-Cheatsheet#images). Store your images in the `img/` folder in this repository."
   ]
  },
  {
   "cell_type": "markdown",
   "metadata": {},
   "source": [
    "The Scottish Crossbill (**Loxia scotica**) is a small passerine bird that inhabits the Caledonian Forests of Scotland, and is the only terrestrial vertebrate species unique to the United Kingdom. Only ~ 20,000 individuals of this species are alive today.\n",
    "\n",
    "The first step is to get occurrence data for the species we are interested in. This used to be the main challenge in Biogeography. Natural Historians such as Charles Darwin and Alexander von Humboldt would travel for years on rustic sail ships around the globe collecting specimen. Today, we are standing on the shoulders of giants. Getting data is fast and easy thanks to the work of two organisations:\n",
    "\n",
    "- [the Global Biodiversity Information Facility (GBIF)](https://www.gbif.org/), an international network and research infrastructure funded by the world’s governments and aimed at providing anyone, anywhere, open access to data about all types of life on Earth. We will use their data in this project.\n",
    "\n",
    "- [rOpenSci](https://ropensci.org/), a non-profit initiative that has developed an ecosystem of open source tools, we run annual unconferences, and review community developed software. Their package `rgbif` will help us access the species data.\n"
   ]
  },
  {
   "cell_type": "code",
   "execution_count": 3,
   "metadata": {},
   "outputs": [
    {
     "name": "stderr",
     "output_type": "stream",
     "text": [
      "Installing package into ‘/usr/local/lib/R/3.5/site-library’\n",
      "(as ‘lib’ is unspecified)\n",
      "also installing the dependencies ‘rgeos’, ‘geoaxe’\n",
      "\n",
      "Warning message in install.packages(\"rgbif\"):\n",
      "“installation of package ‘rgeos’ had non-zero exit status”Warning message in install.packages(\"rgbif\"):\n",
      "“installation of package ‘geoaxe’ had non-zero exit status”Warning message in install.packages(\"rgbif\"):\n",
      "“installation of package ‘rgbif’ had non-zero exit status”"
     ]
    }
   ],
   "source": [
    "install.packages(\"rgbif\")"
   ]
  },
  {
   "cell_type": "code",
   "execution_count": 2,
   "metadata": {},
   "outputs": [
    {
     "name": "stderr",
     "output_type": "stream",
     "text": [
      "Installing package into ‘/usr/local/lib/R/3.5/site-library’\n",
      "(as ‘lib’ is unspecified)\n",
      "also installing the dependencies ‘triebeard’, ‘urltools’, ‘httpcode’, ‘rgeos’, ‘crul’, ‘oai’, ‘geoaxe’, ‘wicket’\n",
      "\n",
      "Warning message in install.packages(\"rgbif\"):\n",
      "“installation of package ‘rgeos’ had non-zero exit status”Warning message in install.packages(\"rgbif\"):\n",
      "“installation of package ‘geoaxe’ had non-zero exit status”Warning message in install.packages(\"rgbif\"):\n",
      "“installation of package ‘rgbif’ had non-zero exit status”"
     ]
    },
    {
     "ename": "ERROR",
     "evalue": "Error in library(rgbif): there is no package called ‘rgbif’\n",
     "output_type": "error",
     "traceback": [
      "Error in library(rgbif): there is no package called ‘rgbif’\nTraceback:\n",
      "1. library(rgbif)",
      "2. stop(txt, domain = NA)"
     ]
    }
   ],
   "source": [
    "# Code and comments for the first task\n",
    "# It should consist of up to 10 lines of code (not including comments)\n",
    "# and take at most 10 seconds to execute on an average laptop.\n",
    "install.packages(\"rgbif\")\n",
    "library(rgbif)\n",
    "\n",
    "# get the database id (\"key\") for the Scottish Crossbill\n",
    "speciesKey <- name_backbone('Loxia scotica')$speciesKey\n",
    "\n",
    "# get the occurrence records of this species\n",
    "gbif_response <- occ_search(\n",
    "  scientificName = \"Loxia scotica\", country = \"GB\",\n",
    "  hasCoordinate = TRUE, hasGeospatialIssue = FALSE,\n",
    "  limit = 9999)\n",
    "\n",
    "# backup to reduce API load\n",
    "write_rds(x = gbif_response, path = here::here('data/gbif_occs_loxsco.rds'))"
   ]
  },
  {
   "cell_type": "markdown",
   "metadata": {},
   "source": [
    "## 2. Title of the second task (<= 55 chars)  (sentence case)"
   ]
  },
  {
   "cell_type": "markdown",
   "metadata": {},
   "source": [
    "Context / background / story / etc. This cell should at most have 800 characters.\n",
    "\n",
    "The most common error instructors make in **context cells** is referring to the student or the project. We want project notebooks to appear as a blog post or a data analysis. Bad: *\"In this task, you will...\"* Good: *\"Next, we will...\"*"
   ]
  },
  {
   "cell_type": "markdown",
   "metadata": {},
   "source": [
    "GBIF and rOpenSci just saved us years or roaming around the highlands with a \n",
    "pair of binoculars, camping in mud, rain, and snow, and chasing crossbills \n",
    "through the forest. Nevertheless, it is still up to us to make sense of the\n",
    "data we got back, in particular to clean it, as data collected on this large\n",
    "scale can have its own issues. Luckily, GBIF provides some useful metadata\n",
    "on each record. Here, I will exclude those that\n",
    "\n",
    "* are not tagged as \"present\" (they may be artifacts from collections)\n",
    "* don't have any flagged issues (nobody has noticed anything abnormal with this)\n",
    "* are under creative commons license (we can use them here)\n",
    "* are older than 1965"
   ]
  },
  {
   "cell_type": "code",
   "execution_count": null,
   "metadata": {},
   "outputs": [],
   "source": [
    "birds_clean <- gbif_response$data %>%\n",
    "  # get decade of record from eventDate\n",
    "  mutate(decade = eventDate %>% ymd_hms() %>% round_date(\"10y\") %>% year() %>% as.numeric()) %>%\n",
    "  # clean data using metadata filters\n",
    "  filter(\n",
    "    # only creative commons license records\n",
    "    str_detect(license, \"http://creativecommons.org/\") &\n",
    "    # only records with no issues\n",
    "    issues == \"\" &\n",
    "    # no records before 1965\n",
    "    decade >= 1970 &\n",
    "    # no records after 2015 (there is not a lot of data yet)\n",
    "    decade < 2020) %>%\n",
    "  # retain only relevant variables\n",
    "  select(decimalLongitude, decimalLatitude, decade) %>% arrange(decade)"
   ]
  },
  {
   "cell_type": "markdown",
   "metadata": {},
   "source": [
    "## 3. Title of the third task (<= 55 chars)  (sentence case)"
   ]
  },
  {
   "cell_type": "markdown",
   "metadata": {},
   "source": [
    "Okay so we've got clean data now. Here comes the nifty trick. We want to look\n",
    "at the data in subsets by decade in order to see if and how the spatial \n",
    "distribution of the species has changed over time. To do so, we can \"nest\"\n",
    "data in a list column using the `tidyr` package:"
   ]
  },
  {
   "cell_type": "code",
   "execution_count": null,
   "metadata": {},
   "outputs": [],
   "source": [
    "birds_nested <- birds_clean %>%\n",
    "  # define the nesting index\n",
    "  group_by(decade) %>% \n",
    "  # aggregate data in each group\n",
    "  nest()\n",
    "\n",
    "# let's have a look\n",
    "head(birds_nested)"
   ]
  },
  {
   "cell_type": "markdown",
   "metadata": {},
   "source": [
    "*Stop here! Only the three first tasks. :)*"
   ]
  }
 ],
 "metadata": {
  "kernelspec": {
   "display_name": "R",
   "language": "R",
   "name": "ir"
  },
  "language_info": {
   "codemirror_mode": "r",
   "file_extension": ".r",
   "mimetype": "text/x-r-source",
   "name": "R",
   "pygments_lexer": "r",
   "version": "3.5.1"
  }
 },
 "nbformat": 4,
 "nbformat_minor": 2
}
