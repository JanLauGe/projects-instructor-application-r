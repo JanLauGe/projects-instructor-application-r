{
 "cells": [
  {
   "cell_type": "markdown",
   "metadata": {
    "collapsed": true
   },
   "source": [
    "Welcome to your DataCamp project audition! This notebook must be filled out and vetted before a contract can be signed and you can start creating your project.\n",
    "\n",
    "The first step is forking the repository in which this notebook lives. After that, there are two parts to be completed in this notebook:\n",
    "\n",
    "- **Project information**:  The title of the project, a project description, etc.\n",
    "\n",
    "- **Project introduction**: The three first text and code cells that will form the introduction of your project.\n",
    "\n",
    "When complete, please email the link to your forked repo to projects@datacamp.com with the email subject line _DataCamp project audition_. If you have any questions, please reach out to projects@datacamp.com."
   ]
  },
  {
   "cell_type": "markdown",
   "metadata": {},
   "source": [
    "# Project information"
   ]
  },
  {
   "cell_type": "markdown",
   "metadata": {},
   "source": [
    "**Project title**: From one nest to another: birds and data\n",
    "\n",
    "**Name:** Jan Laurens Geffert\n",
    "\n",
    "**Email address associated with your DataCamp account:** laurensgeffert@gmail.com\n",
    "\n",
    "**GitHub username:** JanLauGe\n",
    "\n",
    "**Project description**: Jump into the nest! Assess the impact of climate change on bird distributions using a rapid experimentation framework with nested dataframes, list columns, and machine learning models embedded in dataframes.\n",
    "\n",
    "In this project you will work with bird observation and climate data. This project assumes you can manipulate data frames using `dplyr` as taught in the course [Introduction to the Tidyverse](https://www.datacamp.com/courses/introduction-to-the-tidyverse). We will also use a number of other `tidyverse` packages such as `tidyr` and `purrr`. Some familiarity with the fundamentals of machine learning is advisable, you can build it with [Introduction to Machine Learning](https://www.datacamp.com/courses/introduction-to-machine-learning-with-r).\n",
    "\n",
    "The project uses data from two sources: a collection of bird observations from the [the Global Biodiversity Information Facility (GBIF)](https://www.gbif.org/) and climate data provided by the UK Met Office's [UKCP09 gridded observation datasets](https://www.metoffice.gov.uk/climate/uk/data/ukcp09)."
   ]
  },
  {
   "cell_type": "markdown",
   "metadata": {},
   "source": [
    "# Project introduction\n",
    "\n",
    "***Note: nothing needs to be filled out in this cell. It is simply setting up the template cells below.***\n",
    "\n",
    "The final output of a DataCamp project looks like a blog post: pairs of text and code cells that tell a story about data. The text is written from the perspective of the data analyst and *not* from the perspective of an instructor on DataCamp. So, for this blog post intro, all you need to do is pretend like you're writing a blog post -- forget the part about instructors and students.\n",
    "\n",
    "Below you'll see the structure of a DataCamp project: a series of \"tasks\" where each task consists of a title, a **single** text cell, and a **single** code cell. There are 8-12 tasks in a project and each task can have up to 10 lines of code. What you need to do:\n",
    "1. Read through the template structure.\n",
    "2. As best you can, divide your project as it is currently visualized in your mind into tasks.\n",
    "3. Fill out the template structure for the first three tasks of your project.\n",
    "\n",
    "As you are completing each task, you may wish to consult the project notebook format in our [documentation](https://instructor-support.datacamp.com/projects/datacamp-projects-jupyter-notebook). Only the `@context` and `@solution` cells are relevant to this audition."
   ]
  },
  {
   "cell_type": "markdown",
   "metadata": {},
   "source": [
    "## 1. Fieldwork in the digital age – download the data"
   ]
  },
  {
   "cell_type": "markdown",
   "metadata": {},
   "source": [
    "The Scottish Crossbill (*Loxia scotica*) is a small bird inhabiting the Scottish Forests. Only ~ 20,000 individuals of this species are alive today.\n",
    "\n",
    "Our first step is to get occurrence data for this species. This used to be the main challenge in Biogeography. Natural Historians like Charles Darwin and Alexander von Humboldt travelled for years on rustic sail ships around the globe collecting specimen. Today, we stand on the shoulders of giants. Getting data is fast and easy thanks to two organisations:\n",
    "\n",
    "- [the Global Biodiversity Information Facility (GBIF)](https://www.gbif.org/), an international network and research infrastructure aimed at providing anyone, anywhere, open access to data about life on Earth. We will use their data in this project.\n",
    "\n",
    "- [rOpenSci](https://ropensci.org/), a non-profit initiative that develops open source tools for academic data sets. Their package `rgbif` will help us access the species data.\n"
   ]
  },
  {
   "cell_type": "markdown",
   "metadata": {},
   "source": [
    "![Crossbill image](img/Loxia.jpg)"
   ]
  },
  {
   "cell_type": "code",
   "execution_count": 1,
   "metadata": {},
   "outputs": [
    {
     "name": "stderr",
     "output_type": "stream",
     "text": [
      "── Attaching packages ─────────────────────────────────────── tidyverse 1.2.1 ──\n",
      "✔ ggplot2 3.1.0     ✔ purrr   0.2.5\n",
      "✔ tibble  1.4.2     ✔ dplyr   0.7.8\n",
      "✔ tidyr   0.8.1     ✔ stringr 1.3.1\n",
      "✔ readr   1.1.1     ✔ forcats 0.3.0\n",
      "── Conflicts ────────────────────────────────────────── tidyverse_conflicts() ──\n",
      "✖ dplyr::filter() masks stats::filter()\n",
      "✖ dplyr::lag()    masks stats::lag()\n"
     ]
    }
   ],
   "source": [
    "# Code and comments for the first task\n",
    "# It should consist of up to 10 lines of code (not including comments)\n",
    "# and take at most 10 seconds to execute on an average laptop.\n",
    "library(tidyverse)\n",
    "# install.packages(\"rgbif\")\n",
    "library(rgbif)\n",
    "\n",
    "# get the database id (\"key\") for the Scottish Crossbill\n",
    "speciesKey <- name_backbone('Loxia scotica')$speciesKey\n",
    "\n",
    "# get the occurrence records of this species\n",
    "gbif_response <- occ_search(\n",
    "  scientificName = \"Loxia scotica\", country = \"GB\",\n",
    "  hasCoordinate = TRUE, hasGeospatialIssue = FALSE,\n",
    "  limit = 9999)\n",
    "\n",
    "# backup to reduce API load\n",
    "write_rds(x = gbif_response, path = here::here('gbif_occs_loxsco.rds'))"
   ]
  },
  {
   "cell_type": "markdown",
   "metadata": {},
   "source": [
    "## 2. Sorting out the bad eggs – data cleaning"
   ]
  },
  {
   "cell_type": "markdown",
   "metadata": {},
   "source": [
    "GBIF and rOpenSci just saved us years of roaming around the highlands with a \n",
    "pair of binoculars, camping in mud, rain, and snow, and chasing crossbills \n",
    "through the forest. Nevertheless, it is still up to us to make sense of the\n",
    "data we got back, in particular to clean it, as data collected on this large\n",
    "scale can have its own issues. Luckily, GBIF provides some useful metadata\n",
    "on each record. Here, I will exclude those that\n",
    "\n",
    "* are not tagged as \"present\" (they may be artifacts from collections)\n",
    "* don't have any flagged issues (nobody has noticed anything abnormal with this)\n",
    "* are under creative commons license (we can use them here)\n",
    "* are older than 1965"
   ]
  },
  {
   "cell_type": "code",
   "execution_count": 3,
   "metadata": {},
   "outputs": [],
   "source": [
    "library(lubridate)\n",
    "birds_clean <- gbif_response$data %>%\n",
    "  # get decade of record from eventDate\n",
    "  mutate(decade = eventDate %>% ymd_hms(quiet = TRUE) %>% round_date(\"10y\") %>% year() %>% as.numeric()) %>%\n",
    "  # clean data using metadata filters\n",
    "  filter(\n",
    "    # only creative commons license records\n",
    "    str_detect(license, \"http://creativecommons.org/\") &\n",
    "    # only records with no issues\n",
    "    issues == \"\" &\n",
    "    # no records before 1965\n",
    "    decade >= 1970 &\n",
    "    # no records after 2015 (there is not a lot of data yet)\n",
    "    decade < 2020) %>%\n",
    "  # retain only relevant variables\n",
    "  select(decimalLongitude, decimalLatitude, decade) %>% arrange(decade)"
   ]
  },
  {
   "cell_type": "markdown",
   "metadata": {},
   "source": [
    "## 3. Nesting the data"
   ]
  },
  {
   "cell_type": "markdown",
   "metadata": {},
   "source": [
    "So we've got clean data now. Here comes the nifty trick. We want to look\n",
    "at the data in subsets by decade in order to see if and how the spatial \n",
    "distribution of the species has changed over time. To do so, we can \"nest\"\n",
    "data in a list column using the `tidyr` package. The result is a dataframe\n",
    "with the grouping columns left as usual and a `list` column containing the \n",
    "aggregated data of each group. This types of columns work particularly\n",
    "well with the `purrr` package, as we will see in the next exercise."
   ]
  },
  {
   "cell_type": "code",
   "execution_count": 4,
   "metadata": {},
   "outputs": [
    {
     "name": "stdout",
     "output_type": "stream",
     "text": [
      "Observations: 5\n",
      "Variables: 2\n",
      "$ decade <dbl> 1970, 1980, 1990, 2000, 2010\n",
      "$ data   <list> [<# A tibble: 5 x 2,   decimalLongitude decimalLatitude,   ...\n"
     ]
    }
   ],
   "source": [
    "birds_nested <- birds_clean %>%\n",
    "  # define the nesting index\n",
    "  group_by(decade) %>% \n",
    "  # aggregate data in each group\n",
    "  nest()\n",
    "\n",
    "# let's have a look\n",
    "glimpse(birds_nested)"
   ]
  },
  {
   "cell_type": "markdown",
   "metadata": {},
   "source": [
    "*a complete analysis using this dataset: https://janlauge.github.io/2018/nesting-models-in-R-data-frames/*"
   ]
  }
 ],
 "metadata": {
  "kernelspec": {
   "display_name": "R",
   "language": "R",
   "name": "ir"
  },
  "language_info": {
   "codemirror_mode": "r",
   "file_extension": ".r",
   "mimetype": "text/x-r-source",
   "name": "R",
   "pygments_lexer": "r",
   "version": "3.5.0"
  }
 },
 "nbformat": 4,
 "nbformat_minor": 2
}
